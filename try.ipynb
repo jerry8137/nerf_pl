{
 "cells": [
  {
   "cell_type": "code",
   "execution_count": 1,
   "metadata": {},
   "outputs": [],
   "source": [
    "import sys\n",
    "sys.path.remove('/opt/ros/kinetic/lib/python2.7/dist-packages')"
   ]
  },
  {
   "cell_type": "code",
   "execution_count": 2,
   "metadata": {},
   "outputs": [],
   "source": [
    "import os, sys\n",
    "from opt import get_opts\n",
    "import torch\n",
    "from collections import defaultdict\n",
    "\n",
    "from torch.utils.data import DataLoader\n",
    "from datasets import dataset_dict\n",
    "\n",
    "# models\n",
    "from models.nerf import Embedding, NeRF\n",
    "from models.rendering import render_rays\n",
    "\n",
    "# optimizer, scheduler, visualization\n",
    "from utils import *\n",
    "\n",
    "# losses\n",
    "from losses import loss_dict\n",
    "\n",
    "# metrics\n",
    "from metrics import *\n",
    "\n",
    "# pytorch-lightning\n",
    "from pytorch_lightning.callbacks import ModelCheckpoint\n",
    "from pytorch_lightning import LightningModule, Trainer\n",
    "from pytorch_lightning.logging import TestTubeLogger"
   ]
  },
  {
   "cell_type": "code",
   "execution_count": 3,
   "metadata": {},
   "outputs": [
    {
     "name": "stdout",
     "output_type": "stream",
     "text": [
      "<class 'datasets.llff.LLFFDataset'>\n",
      "[[-3.06606079e-02  9.88614933e-01 -1.47310695e-01 -3.25403256e+00\n",
      "   3.02400000e+03]\n",
      " [ 9.99018275e-01  2.55955486e-02 -3.61573616e-02 -9.99193130e-02\n",
      "   4.03200000e+03]\n",
      " [-3.19752096e-02 -1.48274683e-01 -9.88429160e-01 -4.17126087e-01\n",
      "   2.92937603e+03]]\n",
      "[ 11.50469298 230.94832061]\n"
     ]
    }
   ],
   "source": [
    "dataset = dataset_dict['llff']\n",
    "print(dataset)\n",
    "kwargs = {'root_dir': './hall_data',\n",
    "            'img_wh': (504,378), \n",
    "            'val_num': 2 }\n",
    "train_dataset = dataset(split='train',**kwargs)"
   ]
  }
 ],
 "metadata": {
  "interpreter": {
   "hash": "1134522d7d9cf4bdd68ede56357ae6a32ef4f2c21cddb25120450975592724dc"
  },
  "kernelspec": {
   "display_name": "Python 3.6.13 ('nerf')",
   "language": "python",
   "name": "python3"
  },
  "language_info": {
   "codemirror_mode": {
    "name": "ipython",
    "version": 3
   },
   "file_extension": ".py",
   "mimetype": "text/x-python",
   "name": "python",
   "nbconvert_exporter": "python",
   "pygments_lexer": "ipython3",
   "version": "3.6.13"
  },
  "orig_nbformat": 4
 },
 "nbformat": 4,
 "nbformat_minor": 2
}
